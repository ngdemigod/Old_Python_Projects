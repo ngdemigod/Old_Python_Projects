{
 "cells": [
  {
   "cell_type": "code",
   "execution_count": 31,
   "metadata": {},
   "outputs": [],
   "source": [
    "from pandas_datareader import data\n",
    "import datetime \n",
    "from bokeh.plotting import figure, show, output_file\n",
    "\n",
    "\n",
    "#.datetime() - creates a datetime object with the Start & End dates for the period we are looking into\n",
    "start = datetime.datetime(2016,3,1) \n",
    "end = datetime.datetime(2016,3,10)\n",
    "\n",
    "df = data.DataReader(name=\"GOOG\", data_source=\"yahoo\", start=start, end=end)\n",
    "#.DataReader() - Extract data from a wide range of Internet sources into a pandas DataFrame"
   ]
  },
  {
   "cell_type": "code",
   "execution_count": 32,
   "metadata": {},
   "outputs": [
    {
     "output_type": "execute_result",
     "data": {
      "text/plain": "                  High         Low        Open  ...    Status      Middle     Height\nDate                                            ...                                 \n2016-03-01  718.809998  699.770020  703.619995  ...  Increase  711.214996  15.190002\n2016-03-02  720.000000  712.000000  719.000000  ...  Decrease  718.924988   0.150024\n2016-03-03  719.450012  706.020020  718.679993  ...  Decrease  715.549988   6.260010\n2016-03-04  716.489990  706.020020  714.989990  ...  Decrease  712.940002   4.099976\n2016-03-07  708.091003  686.900024  706.900024  ...  Decrease  701.029999  11.740051\n2016-03-08  703.789978  685.340027  688.590027  ...  Increase  691.279999   5.379944\n2016-03-09  705.679993  694.000000  698.469971  ...  Increase  701.854980   6.770020\n2016-03-10  716.440002  703.359985  708.119995  ...  Increase  710.470001   4.700012\n\n[8 rows x 9 columns]",
      "text/html": "<div>\n<style scoped>\n    .dataframe tbody tr th:only-of-type {\n        vertical-align: middle;\n    }\n\n    .dataframe tbody tr th {\n        vertical-align: top;\n    }\n\n    .dataframe thead th {\n        text-align: right;\n    }\n</style>\n<table border=\"1\" class=\"dataframe\">\n  <thead>\n    <tr style=\"text-align: right;\">\n      <th></th>\n      <th>High</th>\n      <th>Low</th>\n      <th>Open</th>\n      <th>Close</th>\n      <th>Volume</th>\n      <th>Adj Close</th>\n      <th>Status</th>\n      <th>Middle</th>\n      <th>Height</th>\n    </tr>\n    <tr>\n      <th>Date</th>\n      <th></th>\n      <th></th>\n      <th></th>\n      <th></th>\n      <th></th>\n      <th></th>\n      <th></th>\n      <th></th>\n      <th></th>\n    </tr>\n  </thead>\n  <tbody>\n    <tr>\n      <th>2016-03-01</th>\n      <td>718.809998</td>\n      <td>699.770020</td>\n      <td>703.619995</td>\n      <td>718.809998</td>\n      <td>2151400</td>\n      <td>718.809998</td>\n      <td>Increase</td>\n      <td>711.214996</td>\n      <td>15.190002</td>\n    </tr>\n    <tr>\n      <th>2016-03-02</th>\n      <td>720.000000</td>\n      <td>712.000000</td>\n      <td>719.000000</td>\n      <td>718.849976</td>\n      <td>1629000</td>\n      <td>718.849976</td>\n      <td>Decrease</td>\n      <td>718.924988</td>\n      <td>0.150024</td>\n    </tr>\n    <tr>\n      <th>2016-03-03</th>\n      <td>719.450012</td>\n      <td>706.020020</td>\n      <td>718.679993</td>\n      <td>712.419983</td>\n      <td>1958000</td>\n      <td>712.419983</td>\n      <td>Decrease</td>\n      <td>715.549988</td>\n      <td>6.260010</td>\n    </tr>\n    <tr>\n      <th>2016-03-04</th>\n      <td>716.489990</td>\n      <td>706.020020</td>\n      <td>714.989990</td>\n      <td>710.890015</td>\n      <td>1972100</td>\n      <td>710.890015</td>\n      <td>Decrease</td>\n      <td>712.940002</td>\n      <td>4.099976</td>\n    </tr>\n    <tr>\n      <th>2016-03-07</th>\n      <td>708.091003</td>\n      <td>686.900024</td>\n      <td>706.900024</td>\n      <td>695.159973</td>\n      <td>2985100</td>\n      <td>695.159973</td>\n      <td>Decrease</td>\n      <td>701.029999</td>\n      <td>11.740051</td>\n    </tr>\n    <tr>\n      <th>2016-03-08</th>\n      <td>703.789978</td>\n      <td>685.340027</td>\n      <td>688.590027</td>\n      <td>693.969971</td>\n      <td>2076300</td>\n      <td>693.969971</td>\n      <td>Increase</td>\n      <td>691.279999</td>\n      <td>5.379944</td>\n    </tr>\n    <tr>\n      <th>2016-03-09</th>\n      <td>705.679993</td>\n      <td>694.000000</td>\n      <td>698.469971</td>\n      <td>705.239990</td>\n      <td>1421500</td>\n      <td>705.239990</td>\n      <td>Increase</td>\n      <td>701.854980</td>\n      <td>6.770020</td>\n    </tr>\n    <tr>\n      <th>2016-03-10</th>\n      <td>716.440002</td>\n      <td>703.359985</td>\n      <td>708.119995</td>\n      <td>712.820007</td>\n      <td>2833500</td>\n      <td>712.820007</td>\n      <td>Increase</td>\n      <td>710.470001</td>\n      <td>4.700012</td>\n    </tr>\n  </tbody>\n</table>\n</div>"
     },
     "metadata": {},
     "execution_count": 32
    }
   ],
   "source": [
    "\"\"\" The function below returns a string value (i.e. Increase, Decrease or Equal) based on value of c & o   \"\"\"\n",
    "def inc_dec(c,o):\n",
    "    if c > o:\n",
    "        value = \"Increase\"\n",
    "    elif c < o:\n",
    "        value = \"Decrease\"\n",
    "    else:\n",
    "        value = \"Equal\"\n",
    "    return value\n",
    "\n",
    "df[\"Status\"] = [inc_dec(c,o) for c, o in zip(df.Close, df.Open)] #Using the inc_dec() function to iterate through both the Close & Open columns, storing the result in the Status column\n",
    "df[\"Middle\"] = (df.Open+df.Close)/2 #values are the average of the Open & Close values for a given day.\n",
    "df[\"Height\"] = abs(df.Close - df.Open) #Returns absolute values for the difference between Close & Open values for a given day."
   ]
  },
  {
   "cell_type": "code",
   "execution_count": 33,
   "metadata": {},
   "outputs": [],
   "source": [
    "p = figure(x_axis_type='datetime', width=1000, height=300)\n",
    "p.title.text = \"Candlestick Chart\"\n",
    "\n",
    "hours = 12*60*60*1000\n",
    "\n",
    "\n",
    "\n",
    "p.rect(df.index[df.Status == \"Increase\"], df.Middle[df.Status == \"Increase\"], hours,\n",
    "    df.Height[df.Status == \"Increase\"],fill_color=\"Green\",line_color = \"Black\")\n",
    "\n",
    "\n",
    "\n",
    "\n",
    "p.rect(df.index[df.Status == \"Decrease\"], df.Middle[df.Status == \"Decrease\"], hours,\n",
    "    df.Height[df.Status == \"Decrease\"],fill_color=\"Red\",line_color = \"Black\")    \n",
    "\n",
    "output_file = \"CS.html\"\n",
    "show(p)\n",
    "\n"
   ]
  },
  {
   "cell_type": "code",
   "execution_count": null,
   "metadata": {},
   "outputs": [],
   "source": []
  }
 ],
 "metadata": {
  "kernelspec": {
   "display_name": "Python 3.8.2 64-bit",
   "language": "python",
   "name": "python38264bit0d810e62ea5d4fa8a6e702800f59cd32"
  },
  "language_info": {
   "codemirror_mode": {
    "name": "ipython",
    "version": 3
   },
   "file_extension": ".py",
   "mimetype": "text/x-python",
   "name": "python",
   "nbconvert_exporter": "python",
   "pygments_lexer": "ipython3",
   "version": "3.8.2-final"
  }
 },
 "nbformat": 4,
 "nbformat_minor": 4
}